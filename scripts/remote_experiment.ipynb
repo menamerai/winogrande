{
 "cells": [
  {
   "cell_type": "code",
   "execution_count": 1,
   "metadata": {},
   "outputs": [
    {
     "name": "stderr",
     "output_type": "stream",
     "text": [
      "Failed to detect the name of this notebook, you can set it manually with the WANDB_NOTEBOOK_NAME environment variable to enable code saving.\n",
      "\u001b[34m\u001b[1mwandb\u001b[0m: Currently logged in as: \u001b[33mduongap\u001b[0m. Use \u001b[1m`wandb login --relogin`\u001b[0m to force relogin\n"
     ]
    },
    {
     "data": {
      "text/html": [
       "Tracking run with wandb version 0.16.3"
      ],
      "text/plain": [
       "<IPython.core.display.HTML object>"
      ]
     },
     "metadata": {},
     "output_type": "display_data"
    },
    {
     "data": {
      "text/html": [
       "Run data is saved locally in <code>/home/menamerai/winogrande/scripts/wandb/run-20240215_100904-x61noku2</code>"
      ],
      "text/plain": [
       "<IPython.core.display.HTML object>"
      ]
     },
     "metadata": {},
     "output_type": "display_data"
    },
    {
     "data": {
      "text/html": [
       "Syncing run <strong><a href='https://wandb.ai/duongap/winogrande-roberta/runs/x61noku2' target=\"_blank\">enthusiastic-candles-15</a></strong> to <a href='https://wandb.ai/duongap/winogrande-roberta' target=\"_blank\">Weights & Biases</a> (<a href='https://wandb.me/run' target=\"_blank\">docs</a>)<br/>"
      ],
      "text/plain": [
       "<IPython.core.display.HTML object>"
      ]
     },
     "metadata": {},
     "output_type": "display_data"
    },
    {
     "data": {
      "text/html": [
       " View project at <a href='https://wandb.ai/duongap/winogrande-roberta' target=\"_blank\">https://wandb.ai/duongap/winogrande-roberta</a>"
      ],
      "text/plain": [
       "<IPython.core.display.HTML object>"
      ]
     },
     "metadata": {},
     "output_type": "display_data"
    },
    {
     "data": {
      "text/html": [
       " View run at <a href='https://wandb.ai/duongap/winogrande-roberta/runs/x61noku2' target=\"_blank\">https://wandb.ai/duongap/winogrande-roberta/runs/x61noku2</a>"
      ],
      "text/plain": [
       "<IPython.core.display.HTML object>"
      ]
     },
     "metadata": {},
     "output_type": "display_data"
    }
   ],
   "source": [
    "from run_experiment import train"
   ]
  },
  {
   "cell_type": "code",
   "execution_count": null,
   "metadata": {},
   "outputs": [],
   "source": [
    "class Args:\n",
    "    def __init__(self):\n",
    "        self.model_type = \"roberta_mc\"\n",
    "        self.model_name_or_path = \"roberta-large\"\n",
    "        self.task_name = \"winogrande\"\n",
    "        self.do_lower_case = True\n",
    "        self.data_dir = \"./data\"\n",
    "        self.max_seq_length = 80\n",
    "        self.per_gpu_eval_batch_size = 4\n",
    "        self.per_gpu_train_batch_size = 16\n",
    "        self.learning_rate = 1e-5\n",
    "        self.num_train_epochs = 1\n",
    "        self.output_dir = \"./output/models\"\n",
    "        self.do_train = True\n",
    "        self.logging_steps = 4752\n",
    "        self.save_steps = 4750\n",
    "        self.seed = 42\n",
    "        self.overwrite_output_dir = True\n",
    "        self.seed = 42\n",
    "        self.data_cache_dir = \"./output/cache\"\n",
    "        self.warmup_pct = 0.1\n",
    "        self.evaluate_during_training = True\n",
    "\n",
    "args = Args()"
   ]
  }
 ],
 "metadata": {
  "kernelspec": {
   "display_name": ".venv",
   "language": "python",
   "name": "python3"
  },
  "language_info": {
   "codemirror_mode": {
    "name": "ipython",
    "version": 3
   },
   "file_extension": ".py",
   "mimetype": "text/x-python",
   "name": "python",
   "nbconvert_exporter": "python",
   "pygments_lexer": "ipython3",
   "version": "3.10.12"
  }
 },
 "nbformat": 4,
 "nbformat_minor": 2
}
