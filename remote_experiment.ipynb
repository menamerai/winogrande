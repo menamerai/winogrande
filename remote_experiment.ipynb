{
 "cells": [
  {
   "cell_type": "code",
   "execution_count": null,
   "metadata": {
    "vscode": {
     "languageId": "plaintext"
    }
   },
   "outputs": [],
   "source": [
    "!git clone https://github.com/menamerai/winogrande\n",
    "!pip install -q -r ./winogrande/requirements.txt\n",
    "!bash ./winogrande/download_winogrande.sh\n",
    "!mv ./data/train_xl.jsonl ./data/train.jsonl\n",
    "!mv ./data/train_xl-labels.lst ./data/train-labels.lst"
   ]
  },
  {
   "cell_type": "code",
   "execution_count": null,
   "metadata": {
    "vscode": {
     "languageId": "plaintext"
    }
   },
   "outputs": [],
   "source": [
    "!CUDA_VISIBLE_DEVICES=0 python ./scripts/run_experiment.py \\\n",
    "--model_type roberta_mc \\\n",
    "--model_name_or_path roberta-large \\\n",
    "--task_name winogrande \\\n",
    "--do_eval \\\n",
    "--do_lower_case \\\n",
    "--data_dir ./data \\\n",
    "--max_seq_length 80 \\\n",
    "--per_gpu_eval_batch_size 4 \\\n",
    "--per_gpu_train_batch_size 16 \\\n",
    "--learning_rate 1e-5 \\\n",
    "--num_train_epochs 1 \\\n",
    "--output_dir ./output/models/ \\\n",
    "--do_train \\\n",
    "--logging_steps 4752 \\\n",
    "--save_steps 4750 \\\n",
    "--seed 42 \\\n",
    "--data_cache_dir ./output/cache/ \\\n",
    "--warmup_pct 0.1 \\\n",
    "--evaluate_during_training\n"
   ]
  }
 ],
 "metadata": {
  "kernelspec": {
   "display_name": ".venv",
   "language": "python",
   "name": "python3"
  },
  "language_info": {
   "codemirror_mode": {
    "name": "ipython",
    "version": 3
   },
   "file_extension": ".py",
   "mimetype": "text/x-python",
   "name": "python",
   "nbconvert_exporter": "python",
   "pygments_lexer": "ipython3",
   "version": "3.10.12"
  }
 },
 "nbformat": 4,
 "nbformat_minor": 2
}
